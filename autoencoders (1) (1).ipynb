{
 "cells": [
  {
   "cell_type": "code",
   "execution_count": 3,
   "metadata": {
    "id": "1YwA2EdX0VdH"
   },
   "outputs": [],
   "source": [
    "import numpy as np\n",
    "import matplotlib.pyplot as plt\n",
    "import tensorflow as tf\n",
    "import tensorflow.keras as tfk\n",
    "import tensorflow_datasets as tfds\n",
    "\n",
    "tfkl = tfk.layers"
   ]
  },
  {
   "cell_type": "markdown",
   "metadata": {
    "id": "28GQwMhxEsYw"
   },
   "source": [
    "### MNIST data\n",
    "Here is some code to load the MNIST digit recognition dataet and associated metadata"
   ]
  },
  {
   "cell_type": "code",
   "execution_count": 4,
   "metadata": {
    "colab": {
     "base_uri": "https://localhost:8080/",
     "height": 656,
     "referenced_widgets": [
      "44fe5473bc604425a89d949b8b1fadca",
      "35b6da694ed74333b7ac16ef8928b9a6",
      "4566c85f8f8443acaa80591012be3a58",
      "d0a35b7f92744288a841cb1acc92031f",
      "ff8062801cd349138e84847e841ad017",
      "8b1429a6c67c4971a025459b59d4902a",
      "65ba0aac2b034021b9c4bfdc9c51670d",
      "3dbbdfa73cf84aac9fef3d22ee0de2a3"
     ]
    },
    "id": "23CAr5Fl03MF",
    "outputId": "bfc16ee9-e803-412c-efc8-d51f355094e6"
   },
   "outputs": [
    {
     "name": "stdout",
     "output_type": "stream",
     "text": [
      "Downloading and preparing dataset mnist/3.0.1 (download: Unknown size, generated: Unknown size, total: Unknown size) to C:\\Users\\Owner\\tensorflow_datasets\\mnist\\3.0.1...\n"
     ]
    },
    {
     "data": {
      "application/vnd.jupyter.widget-view+json": {
       "model_id": "6b190c14e1dc4b779661499e89b2e15b",
       "version_major": 2,
       "version_minor": 0
      },
      "text/plain": [
       "HBox(children=(IntProgress(value=1, bar_style='info', description='Dl Completed...', max=1, style=ProgressStyl…"
      ]
     },
     "metadata": {},
     "output_type": "display_data"
    },
    {
     "data": {
      "application/vnd.jupyter.widget-view+json": {
       "model_id": "3c0d546b67f0450f8b11d421b8f0003b",
       "version_major": 2,
       "version_minor": 0
      },
      "text/plain": [
       "HBox(children=(IntProgress(value=1, bar_style='info', description='Dl Size...', max=1, style=ProgressStyle(des…"
      ]
     },
     "metadata": {},
     "output_type": "display_data"
    },
    {
     "data": {
      "application/vnd.jupyter.widget-view+json": {
       "model_id": "5a49228ec43f4c56ad7298aa7f851866",
       "version_major": 2,
       "version_minor": 0
      },
      "text/plain": [
       "HBox(children=(IntProgress(value=1, bar_style='info', description='Extraction completed...', max=1, style=Prog…"
      ]
     },
     "metadata": {},
     "output_type": "display_data"
    },
    {
     "name": "stdout",
     "output_type": "stream",
     "text": [
      "\n",
      "\n",
      "\n",
      "\n"
     ]
    },
    {
     "data": {
      "application/vnd.jupyter.widget-view+json": {
       "model_id": "",
       "version_major": 2,
       "version_minor": 0
      },
      "text/plain": [
       "HBox(children=(IntProgress(value=1, bar_style='info', max=1), HTML(value='')))"
      ]
     },
     "metadata": {},
     "output_type": "display_data"
    },
    {
     "name": "stdout",
     "output_type": "stream",
     "text": [
      "Shuffling and writing examples to C:\\Users\\Owner\\tensorflow_datasets\\mnist\\3.0.1.incompleteXX13FD\\mnist-train.tfrecord\n"
     ]
    },
    {
     "data": {
      "application/vnd.jupyter.widget-view+json": {
       "model_id": "afe47b5816f74e908e3776b56009568b",
       "version_major": 2,
       "version_minor": 0
      },
      "text/plain": [
       "HBox(children=(IntProgress(value=0, max=60000), HTML(value='')))"
      ]
     },
     "metadata": {},
     "output_type": "display_data"
    },
    {
     "name": "stdout",
     "output_type": "stream",
     "text": [
      "\r"
     ]
    },
    {
     "data": {
      "application/vnd.jupyter.widget-view+json": {
       "model_id": "",
       "version_major": 2,
       "version_minor": 0
      },
      "text/plain": [
       "HBox(children=(IntProgress(value=1, bar_style='info', max=1), HTML(value='')))"
      ]
     },
     "metadata": {},
     "output_type": "display_data"
    },
    {
     "name": "stdout",
     "output_type": "stream",
     "text": [
      "Shuffling and writing examples to C:\\Users\\Owner\\tensorflow_datasets\\mnist\\3.0.1.incompleteXX13FD\\mnist-test.tfrecord\n"
     ]
    },
    {
     "data": {
      "application/vnd.jupyter.widget-view+json": {
       "model_id": "fd157922fa274272b4a2f4332c3f97a4",
       "version_major": 2,
       "version_minor": 0
      },
      "text/plain": [
       "HBox(children=(IntProgress(value=0, max=10000), HTML(value='')))"
      ]
     },
     "metadata": {},
     "output_type": "display_data"
    },
    {
     "name": "stdout",
     "output_type": "stream",
     "text": [
      "Dataset mnist downloaded and prepared to C:\\Users\\Owner\\tensorflow_datasets\\mnist\\3.0.1. Subsequent calls will reuse this data.\n",
      "tfds.core.DatasetInfo(\n",
      "    name='mnist',\n",
      "    version=3.0.1,\n",
      "    description='The MNIST database of handwritten digits.',\n",
      "    homepage='http://yann.lecun.com/exdb/mnist/',\n",
      "    features=FeaturesDict({\n",
      "        'image': Image(shape=(28, 28, 1), dtype=tf.uint8),\n",
      "        'label': ClassLabel(shape=(), dtype=tf.int64, num_classes=10),\n",
      "    }),\n",
      "    total_num_examples=70000,\n",
      "    splits={\n",
      "        'test': 10000,\n",
      "        'train': 60000,\n",
      "    },\n",
      "    supervised_keys=('image', 'label'),\n",
      "    citation=\"\"\"@article{lecun2010mnist,\n",
      "      title={MNIST handwritten digit database},\n",
      "      author={LeCun, Yann and Cortes, Corinna and Burges, CJ},\n",
      "      journal={ATT Labs [Online]. Available: http://yann.lecun.com/exdb/mnist},\n",
      "      volume={2},\n",
      "      year={2010}\n",
      "    }\"\"\",\n",
      "    redistribution_info=,\n",
      ")\n",
      "\n"
     ]
    }
   ],
   "source": [
    "data, info = tfds.load('mnist', with_info=True)\n",
    "print(info)"
   ]
  },
  {
   "cell_type": "markdown",
   "metadata": {
    "id": "5bevJSLhE_Lc"
   },
   "source": [
    "### Preprocessing\n",
    "\n",
    "Let's start by writting a preprocessing function.\n",
    "\n",
    "TensorFlow Datasets packages the MNIST data such that each element is a `dict` with two keys:\n",
    "- `image`: an array containing the image with shape (28, 28, 1), values of type `uint8`, and values between 0 and 255\n",
    "- `label`: An integer between 0 - 9 indicating the digit in the image\n",
    "\n",
    "Write a `preprocess` function that takes in one such element and prepares it for training an autoencoder. Things to make sure your function does:\n",
    "1. Cast the image to a `float32`\n",
    "2. Scale the values of the images so they are between 0 - 1\n",
    "3. Return a tuple with the transformed image and the label\n",
    "\n",
    "Then write another function called `ae_targets` that transforms this $(x, y)$ pair into the tuple that represents the input and target that are appropriate for an autoencoder.\n",
    "\n",
    "Finally, transform the originally dataset with the following steps:\n",
    "1. Grab the training dataset\n",
    "2. apply (i.e. \"map\") the preprocessing function\n",
    "3. apply the function to generate appropriate autoencoder targets\n",
    "3. cache the results (so you only to these tranformations the first time through the dataset)\n",
    "4. split the dataset into batches of size `32`\n",
    "5. set up the resulting dataset to repeat\n",
    "6. set up the resulting dataset to prefetch `5` elements\n",
    "\n",
    "(there is a chain of functions on the `Dataset` to do each of these!)"
   ]
  },
  {
   "cell_type": "code",
   "execution_count": 19,
   "metadata": {
    "id": "8aJJTNCR2VC1"
   },
   "outputs": [],
   "source": [
    "preprocess= lambda d: (tf.cast(d['image'], tf.float32)/255.,d['label'])\n",
    "ae_targets= lambda x,y: (x,x)\n",
    "\n",
    "ds_train=data['train'].map(preprocess).map(ae_targets).cache().batch(32).repeat().prefetch(5)\n"
   ]
  },
  {
   "cell_type": "markdown",
   "metadata": {
    "id": "IpQgVaNCHzMO"
   },
   "source": [
    "### TensorFlow function API + a simple autoencoder\n",
    "\n",
    "We will want to use the encoder and decoder from our autoencoder separately down the road. Here is some code to build a simple autoencoder with a single hidden layer using the TensorFlow 'functional API' to see show we can combine two submodels (in this case the encoder and the decoder) into on larger model."
   ]
  },
  {
   "cell_type": "code",
   "execution_count": 20,
   "metadata": {
    "colab": {
     "base_uri": "https://localhost:8080/",
     "height": 52
    },
    "id": "xoCZ3o72JYZY",
    "outputId": "969170d6-b73e-4370-bd35-3e28d9e0a455"
   },
   "outputs": [
    {
     "name": "stdout",
     "output_type": "stream",
     "text": [
      "(28, 28, 1)\n",
      "784\n"
     ]
    }
   ],
   "source": [
    "img_shape = info.features['image'].shape\n",
    "print(img_shape)\n",
    "print(np.prod(img_shape))"
   ]
  },
  {
   "cell_type": "code",
   "execution_count": 21,
   "metadata": {
    "colab": {
     "base_uri": "https://localhost:8080/",
     "height": 1000
    },
    "id": "QSo1qWNXJTzH",
    "outputId": "05638367-3728-4e43-de7c-613c001c5fa1"
   },
   "outputs": [
    {
     "name": "stdout",
     "output_type": "stream",
     "text": [
      "Model: \"sequential_2\"\n",
      "_________________________________________________________________\n",
      "Layer (type)                 Output Shape              Param #   \n",
      "=================================================================\n",
      "flatten_1 (Flatten)          (None, 784)               0         \n",
      "_________________________________________________________________\n",
      "dense_2 (Dense)              (None, 32)                25120     \n",
      "=================================================================\n",
      "Total params: 25,120\n",
      "Trainable params: 25,120\n",
      "Non-trainable params: 0\n",
      "_________________________________________________________________\n",
      "Model: \"sequential_3\"\n",
      "_________________________________________________________________\n",
      "Layer (type)                 Output Shape              Param #   \n",
      "=================================================================\n",
      "dense_3 (Dense)              (None, 784)               25872     \n",
      "_________________________________________________________________\n",
      "reshape_1 (Reshape)          (None, 28, 28, 1)         0         \n",
      "=================================================================\n",
      "Total params: 25,872\n",
      "Trainable params: 25,872\n",
      "Non-trainable params: 0\n",
      "_________________________________________________________________\n",
      "Model: \"model_1\"\n",
      "_________________________________________________________________\n",
      "Layer (type)                 Output Shape              Param #   \n",
      "=================================================================\n",
      "input_6 (InputLayer)         [(None, 28, 28, 1)]       0         \n",
      "_________________________________________________________________\n",
      "sequential_2 (Sequential)    (None, 32)                25120     \n",
      "_________________________________________________________________\n",
      "sequential_3 (Sequential)    (None, 28, 28, 1)         25872     \n",
      "=================================================================\n",
      "Total params: 50,992\n",
      "Trainable params: 50,992\n",
      "Non-trainable params: 0\n",
      "_________________________________________________________________\n",
      "Train for 400 steps\n",
      "Epoch 1/20\n",
      "400/400 [==============================] - ETA: 9:58 - loss: 0.693 - ETA: 1:27 - loss: 0.682 - ETA: 47s - loss: 0.660 - ETA: 26s - loss: 0.58 - ETA: 19s - loss: 0.53 - ETA: 16s - loss: 0.49 - ETA: 13s - loss: 0.45 - ETA: 11s - loss: 0.42 - ETA: 9s - loss: 0.4071 - ETA: 8s - loss: 0.391 - ETA: 7s - loss: 0.377 - ETA: 6s - loss: 0.366 - ETA: 6s - loss: 0.357 - ETA: 5s - loss: 0.349 - ETA: 5s - loss: 0.342 - ETA: 4s - loss: 0.335 - ETA: 4s - loss: 0.331 - ETA: 4s - loss: 0.325 - ETA: 3s - loss: 0.321 - ETA: 3s - loss: 0.316 - ETA: 3s - loss: 0.311 - ETA: 3s - loss: 0.307 - ETA: 2s - loss: 0.303 - ETA: 2s - loss: 0.299 - ETA: 2s - loss: 0.296 - ETA: 2s - loss: 0.292 - ETA: 2s - loss: 0.288 - ETA: 2s - loss: 0.285 - ETA: 1s - loss: 0.283 - ETA: 1s - loss: 0.279 - ETA: 1s - loss: 0.277 - ETA: 1s - loss: 0.274 - ETA: 1s - loss: 0.271 - ETA: 1s - loss: 0.268 - ETA: 1s - loss: 0.266 - ETA: 0s - loss: 0.264 - ETA: 0s - loss: 0.261 - ETA: 0s - loss: 0.259 - ETA: 0s - loss: 0.258 - ETA: 0s - loss: 0.256 - ETA: 0s - loss: 0.254 - ETA: 0s - loss: 0.252 - ETA: 0s - loss: 0.250 - ETA: 0s - loss: 0.249 - ETA: 0s - loss: 0.247 - 4s 10ms/step - loss: 0.2468\n",
      "Epoch 2/20\n",
      "400/400 [==============================] - ETA: 3s - loss: 0.190 - ETA: 2s - loss: 0.183 - ETA: 2s - loss: 0.179 - ETA: 2s - loss: 0.178 - ETA: 2s - loss: 0.177 - ETA: 2s - loss: 0.177 - ETA: 2s - loss: 0.177 - ETA: 2s - loss: 0.177 - ETA: 2s - loss: 0.177 - ETA: 2s - loss: 0.176 - ETA: 1s - loss: 0.175 - ETA: 1s - loss: 0.175 - ETA: 1s - loss: 0.174 - ETA: 1s - loss: 0.173 - ETA: 1s - loss: 0.172 - ETA: 1s - loss: 0.172 - ETA: 1s - loss: 0.172 - ETA: 1s - loss: 0.171 - ETA: 1s - loss: 0.171 - ETA: 1s - loss: 0.170 - ETA: 1s - loss: 0.170 - ETA: 1s - loss: 0.170 - ETA: 1s - loss: 0.170 - ETA: 1s - loss: 0.169 - ETA: 1s - loss: 0.169 - ETA: 1s - loss: 0.169 - ETA: 1s - loss: 0.169 - ETA: 1s - loss: 0.169 - ETA: 0s - loss: 0.168 - ETA: 0s - loss: 0.168 - ETA: 0s - loss: 0.168 - ETA: 0s - loss: 0.168 - ETA: 0s - loss: 0.168 - ETA: 0s - loss: 0.167 - ETA: 0s - loss: 0.167 - ETA: 0s - loss: 0.167 - ETA: 0s - loss: 0.167 - ETA: 0s - loss: 0.167 - ETA: 0s - loss: 0.167 - ETA: 0s - loss: 0.166 - ETA: 0s - loss: 0.166 - ETA: 0s - loss: 0.166 - ETA: 0s - loss: 0.165 - ETA: 0s - loss: 0.165 - ETA: 0s - loss: 0.165 - ETA: 0s - loss: 0.164 - ETA: 0s - loss: 0.164 - ETA: 0s - loss: 0.164 - ETA: 0s - loss: 0.163 - 3s 6ms/step - loss: 0.1635\n",
      "Epoch 3/20\n",
      "400/400 [==============================] - ETA: 3s - loss: 0.139 - ETA: 2s - loss: 0.148 - ETA: 2s - loss: 0.149 - ETA: 2s - loss: 0.150 - ETA: 2s - loss: 0.147 - ETA: 2s - loss: 0.147 - ETA: 1s - loss: 0.147 - ETA: 1s - loss: 0.147 - ETA: 1s - loss: 0.146 - ETA: 1s - loss: 0.146 - ETA: 1s - loss: 0.146 - ETA: 1s - loss: 0.146 - ETA: 1s - loss: 0.146 - ETA: 1s - loss: 0.146 - ETA: 1s - loss: 0.146 - ETA: 1s - loss: 0.145 - ETA: 1s - loss: 0.145 - ETA: 1s - loss: 0.145 - ETA: 1s - loss: 0.145 - ETA: 1s - loss: 0.145 - ETA: 1s - loss: 0.145 - ETA: 1s - loss: 0.144 - ETA: 0s - loss: 0.144 - ETA: 0s - loss: 0.144 - ETA: 0s - loss: 0.144 - ETA: 0s - loss: 0.143 - ETA: 0s - loss: 0.143 - ETA: 0s - loss: 0.143 - ETA: 0s - loss: 0.143 - ETA: 0s - loss: 0.142 - ETA: 0s - loss: 0.142 - ETA: 0s - loss: 0.142 - ETA: 0s - loss: 0.142 - ETA: 0s - loss: 0.142 - ETA: 0s - loss: 0.141 - ETA: 0s - loss: 0.141 - ETA: 0s - loss: 0.141 - ETA: 0s - loss: 0.141 - ETA: 0s - loss: 0.141 - ETA: 0s - loss: 0.141 - ETA: 0s - loss: 0.140 - ETA: 0s - loss: 0.140 - ETA: 0s - loss: 0.140 - 2s 6ms/step - loss: 0.1402\n",
      "Epoch 4/20\n",
      "400/400 [==============================] - ETA: 3s - loss: 0.122 - ETA: 2s - loss: 0.133 - ETA: 2s - loss: 0.131 - ETA: 2s - loss: 0.131 - ETA: 2s - loss: 0.131 - ETA: 2s - loss: 0.131 - ETA: 2s - loss: 0.131 - ETA: 2s - loss: 0.131 - ETA: 2s - loss: 0.131 - ETA: 1s - loss: 0.130 - ETA: 1s - loss: 0.130 - ETA: 1s - loss: 0.130 - ETA: 1s - loss: 0.130 - ETA: 1s - loss: 0.130 - ETA: 1s - loss: 0.130 - ETA: 1s - loss: 0.130 - ETA: 1s - loss: 0.130 - ETA: 1s - loss: 0.129 - ETA: 1s - loss: 0.129 - ETA: 1s - loss: 0.129 - ETA: 1s - loss: 0.129 - ETA: 1s - loss: 0.129 - ETA: 1s - loss: 0.129 - ETA: 1s - loss: 0.129 - ETA: 1s - loss: 0.128 - ETA: 1s - loss: 0.128 - ETA: 0s - loss: 0.128 - ETA: 0s - loss: 0.128 - ETA: 0s - loss: 0.128 - ETA: 0s - loss: 0.128 - ETA: 0s - loss: 0.128 - ETA: 0s - loss: 0.127 - ETA: 0s - loss: 0.127 - ETA: 0s - loss: 0.127 - ETA: 0s - loss: 0.127 - ETA: 0s - loss: 0.127 - ETA: 0s - loss: 0.127 - ETA: 0s - loss: 0.127 - ETA: 0s - loss: 0.126 - ETA: 0s - loss: 0.126 - ETA: 0s - loss: 0.126 - ETA: 0s - loss: 0.126 - ETA: 0s - loss: 0.126 - ETA: 0s - loss: 0.126 - ETA: 0s - loss: 0.126 - ETA: 0s - loss: 0.126 - ETA: 0s - loss: 0.126 - ETA: 0s - loss: 0.126 - ETA: 0s - loss: 0.126 - 3s 6ms/step - loss: 0.1260\n",
      "Epoch 5/20\n",
      "400/400 [==============================] - ETA: 3s - loss: 0.123 - ETA: 3s - loss: 0.118 - ETA: 4s - loss: 0.116 - ETA: 3s - loss: 0.117 - ETA: 3s - loss: 0.117 - ETA: 3s - loss: 0.117 - ETA: 2s - loss: 0.118 - ETA: 2s - loss: 0.119 - ETA: 2s - loss: 0.119 - ETA: 2s - loss: 0.119 - ETA: 2s - loss: 0.118 - ETA: 2s - loss: 0.118 - ETA: 1s - loss: 0.118 - ETA: 1s - loss: 0.118 - ETA: 1s - loss: 0.119 - ETA: 1s - loss: 0.119 - ETA: 1s - loss: 0.118 - ETA: 1s - loss: 0.118 - ETA: 1s - loss: 0.118 - ETA: 1s - loss: 0.118 - ETA: 1s - loss: 0.118 - ETA: 1s - loss: 0.118 - ETA: 1s - loss: 0.118 - ETA: 1s - loss: 0.118 - ETA: 1s - loss: 0.118 - ETA: 1s - loss: 0.118 - ETA: 1s - loss: 0.118 - ETA: 1s - loss: 0.118 - ETA: 1s - loss: 0.118 - ETA: 0s - loss: 0.118 - ETA: 0s - loss: 0.117 - ETA: 0s - loss: 0.117 - ETA: 0s - loss: 0.117 - ETA: 0s - loss: 0.117 - ETA: 0s - loss: 0.117 - ETA: 0s - loss: 0.117 - ETA: 0s - loss: 0.117 - ETA: 0s - loss: 0.117 - ETA: 0s - loss: 0.116 - ETA: 0s - loss: 0.116 - ETA: 0s - loss: 0.116 - ETA: 0s - loss: 0.116 - 2s 6ms/step - loss: 0.1166\n",
      "Epoch 6/20\n",
      "400/400 [==============================] - ETA: 1s - loss: 0.114 - ETA: 1s - loss: 0.112 - ETA: 1s - loss: 0.111 - ETA: 1s - loss: 0.111 - ETA: 1s - loss: 0.111 - ETA: 1s - loss: 0.111 - ETA: 1s - loss: 0.111 - ETA: 1s - loss: 0.112 - ETA: 1s - loss: 0.112 - ETA: 1s - loss: 0.111 - ETA: 1s - loss: 0.111 - ETA: 1s - loss: 0.112 - ETA: 1s - loss: 0.112 - ETA: 1s - loss: 0.112 - ETA: 1s - loss: 0.112 - ETA: 1s - loss: 0.111 - ETA: 1s - loss: 0.111 - ETA: 1s - loss: 0.111 - ETA: 0s - loss: 0.111 - ETA: 0s - loss: 0.111 - ETA: 0s - loss: 0.111 - ETA: 0s - loss: 0.110 - ETA: 0s - loss: 0.110 - ETA: 0s - loss: 0.110 - ETA: 0s - loss: 0.110 - ETA: 0s - loss: 0.110 - ETA: 0s - loss: 0.110 - ETA: 0s - loss: 0.110 - ETA: 0s - loss: 0.110 - ETA: 0s - loss: 0.110 - ETA: 0s - loss: 0.110 - ETA: 0s - loss: 0.109 - ETA: 0s - loss: 0.109 - ETA: 0s - loss: 0.109 - 2s 4ms/step - loss: 0.1095\n",
      "Epoch 7/20\n",
      "400/400 [==============================] - ETA: 1s - loss: 0.106 - ETA: 2s - loss: 0.107 - ETA: 1s - loss: 0.106 - ETA: 1s - loss: 0.106 - ETA: 1s - loss: 0.106 - ETA: 1s - loss: 0.106 - ETA: 1s - loss: 0.106 - ETA: 1s - loss: 0.106 - ETA: 1s - loss: 0.106 - ETA: 1s - loss: 0.106 - ETA: 1s - loss: 0.106 - ETA: 1s - loss: 0.106 - ETA: 1s - loss: 0.106 - ETA: 1s - loss: 0.106 - ETA: 0s - loss: 0.106 - ETA: 0s - loss: 0.106 - ETA: 0s - loss: 0.106 - ETA: 0s - loss: 0.106 - ETA: 0s - loss: 0.106 - ETA: 0s - loss: 0.106 - ETA: 0s - loss: 0.106 - ETA: 0s - loss: 0.106 - ETA: 0s - loss: 0.106 - ETA: 0s - loss: 0.106 - ETA: 0s - loss: 0.106 - ETA: 0s - loss: 0.105 - ETA: 0s - loss: 0.105 - ETA: 0s - loss: 0.105 - ETA: 0s - loss: 0.105 - ETA: 0s - loss: 0.105 - ETA: 0s - loss: 0.105 - ETA: 0s - loss: 0.105 - 2s 4ms/step - loss: 0.1054\n",
      "Epoch 8/20\n",
      "400/400 [==============================] - ETA: 6s - loss: 0.099 - ETA: 2s - loss: 0.103 - ETA: 2s - loss: 0.103 - ETA: 2s - loss: 0.103 - ETA: 2s - loss: 0.103 - ETA: 2s - loss: 0.102 - ETA: 1s - loss: 0.103 - ETA: 1s - loss: 0.104 - ETA: 1s - loss: 0.103 - ETA: 1s - loss: 0.103 - ETA: 1s - loss: 0.103 - ETA: 1s - loss: 0.103 - ETA: 1s - loss: 0.103 - ETA: 1s - loss: 0.103 - ETA: 1s - loss: 0.102 - ETA: 1s - loss: 0.103 - ETA: 1s - loss: 0.102 - ETA: 0s - loss: 0.102 - ETA: 0s - loss: 0.103 - ETA: 0s - loss: 0.102 - ETA: 0s - loss: 0.102 - ETA: 0s - loss: 0.102 - ETA: 0s - loss: 0.102 - ETA: 0s - loss: 0.102 - ETA: 0s - loss: 0.102 - ETA: 0s - loss: 0.102 - ETA: 0s - loss: 0.102 - ETA: 0s - loss: 0.102 - ETA: 0s - loss: 0.102 - ETA: 0s - loss: 0.102 - ETA: 0s - loss: 0.102 - ETA: 0s - loss: 0.102 - 2s 4ms/step - loss: 0.1020\n",
      "Epoch 9/20\n",
      "400/400 [==============================] - ETA: 1s - loss: 0.098 - ETA: 1s - loss: 0.101 - ETA: 1s - loss: 0.100 - ETA: 1s - loss: 0.100 - ETA: 1s - loss: 0.100 - ETA: 1s - loss: 0.100 - ETA: 1s - loss: 0.100 - ETA: 1s - loss: 0.100 - ETA: 1s - loss: 0.100 - ETA: 0s - loss: 0.100 - ETA: 0s - loss: 0.100 - ETA: 0s - loss: 0.100 - ETA: 0s - loss: 0.100 - ETA: 0s - loss: 0.100 - ETA: 0s - loss: 0.100 - ETA: 0s - loss: 0.100 - ETA: 0s - loss: 0.100 - ETA: 0s - loss: 0.100 - ETA: 0s - loss: 0.100 - ETA: 0s - loss: 0.100 - ETA: 0s - loss: 0.100 - ETA: 0s - loss: 0.099 - ETA: 0s - loss: 0.099 - ETA: 0s - loss: 0.099 - ETA: 0s - loss: 0.099 - ETA: 0s - loss: 0.099 - ETA: 0s - loss: 0.099 - ETA: 0s - loss: 0.099 - ETA: 0s - loss: 0.099 - ETA: 0s - loss: 0.099 - 2s 4ms/step - loss: 0.0997\n",
      "Epoch 10/20\n",
      "400/400 [==============================] - ETA: 2s - loss: 0.100 - ETA: 1s - loss: 0.098 - ETA: 1s - loss: 0.099 - ETA: 1s - loss: 0.099 - ETA: 1s - loss: 0.099 - ETA: 1s - loss: 0.099 - ETA: 1s - loss: 0.099 - ETA: 1s - loss: 0.099 - ETA: 1s - loss: 0.099 - ETA: 1s - loss: 0.099 - ETA: 1s - loss: 0.099 - ETA: 1s - loss: 0.099 - ETA: 1s - loss: 0.098 - ETA: 0s - loss: 0.098 - ETA: 0s - loss: 0.098 - ETA: 0s - loss: 0.099 - ETA: 0s - loss: 0.098 - ETA: 0s - loss: 0.098 - ETA: 0s - loss: 0.098 - ETA: 0s - loss: 0.098 - ETA: 0s - loss: 0.098 - ETA: 0s - loss: 0.098 - ETA: 0s - loss: 0.098 - ETA: 0s - loss: 0.098 - ETA: 0s - loss: 0.098 - ETA: 0s - loss: 0.098 - ETA: 0s - loss: 0.098 - ETA: 0s - loss: 0.098 - ETA: 0s - loss: 0.098 - ETA: 0s - loss: 0.098 - ETA: 0s - loss: 0.098 - ETA: 0s - loss: 0.098 - 2s 4ms/step - loss: 0.0985\n",
      "Epoch 11/20\n",
      "400/400 [==============================] - ETA: 1s - loss: 0.098 - ETA: 2s - loss: 0.098 - ETA: 2s - loss: 0.099 - ETA: 2s - loss: 0.098 - ETA: 1s - loss: 0.097 - ETA: 1s - loss: 0.097 - ETA: 1s - loss: 0.097 - ETA: 1s - loss: 0.097 - ETA: 1s - loss: 0.097 - ETA: 1s - loss: 0.097 - ETA: 1s - loss: 0.097 - ETA: 1s - loss: 0.096 - ETA: 1s - loss: 0.096 - ETA: 1s - loss: 0.096 - ETA: 1s - loss: 0.097 - ETA: 1s - loss: 0.097 - ETA: 1s - loss: 0.096 - ETA: 0s - loss: 0.096 - ETA: 0s - loss: 0.097 - ETA: 0s - loss: 0.096 - ETA: 0s - loss: 0.096 - ETA: 0s - loss: 0.096 - ETA: 0s - loss: 0.096 - ETA: 0s - loss: 0.096 - ETA: 0s - loss: 0.096 - ETA: 0s - loss: 0.096 - ETA: 0s - loss: 0.096 - ETA: 0s - loss: 0.096 - ETA: 0s - loss: 0.096 - ETA: 0s - loss: 0.096 - ETA: 0s - loss: 0.096 - 2s 4ms/step - loss: 0.0967\n",
      "Epoch 12/20\n",
      "400/400 [==============================] - ETA: 1s - loss: 0.095 - ETA: 1s - loss: 0.098 - ETA: 1s - loss: 0.097 - ETA: 1s - loss: 0.097 - ETA: 1s - loss: 0.097 - ETA: 1s - loss: 0.097 - ETA: 1s - loss: 0.097 - ETA: 1s - loss: 0.097 - ETA: 1s - loss: 0.097 - ETA: 1s - loss: 0.097 - ETA: 0s - loss: 0.097 - ETA: 0s - loss: 0.097 - ETA: 0s - loss: 0.097 - ETA: 0s - loss: 0.097 - ETA: 0s - loss: 0.096 - ETA: 0s - loss: 0.096 - ETA: 0s - loss: 0.096 - ETA: 0s - loss: 0.096 - ETA: 0s - loss: 0.096 - ETA: 0s - loss: 0.096 - ETA: 0s - loss: 0.096 - ETA: 0s - loss: 0.096 - ETA: 0s - loss: 0.096 - ETA: 0s - loss: 0.096 - ETA: 0s - loss: 0.096 - ETA: 0s - loss: 0.096 - ETA: 0s - loss: 0.096 - ETA: 0s - loss: 0.096 - ETA: 0s - loss: 0.096 - ETA: 0s - loss: 0.096 - ETA: 0s - loss: 0.096 - ETA: 0s - loss: 0.096 - 2s 4ms/step - loss: 0.0966\n",
      "Epoch 13/20\n",
      "400/400 [==============================] - ETA: 2s - loss: 0.101 - ETA: 1s - loss: 0.096 - ETA: 1s - loss: 0.095 - ETA: 1s - loss: 0.095 - ETA: 1s - loss: 0.096 - ETA: 1s - loss: 0.096 - ETA: 1s - loss: 0.096 - ETA: 1s - loss: 0.096 - ETA: 1s - loss: 0.096 - ETA: 1s - loss: 0.096 - ETA: 1s - loss: 0.095 - ETA: 1s - loss: 0.095 - ETA: 1s - loss: 0.095 - ETA: 0s - loss: 0.095 - ETA: 0s - loss: 0.095 - ETA: 0s - loss: 0.095 - ETA: 0s - loss: 0.096 - ETA: 0s - loss: 0.096 - ETA: 0s - loss: 0.096 - ETA: 0s - loss: 0.095 - ETA: 0s - loss: 0.096 - ETA: 0s - loss: 0.096 - ETA: 0s - loss: 0.096 - ETA: 0s - loss: 0.096 - ETA: 0s - loss: 0.096 - ETA: 0s - loss: 0.096 - ETA: 0s - loss: 0.096 - ETA: 0s - loss: 0.096 - ETA: 0s - loss: 0.096 - ETA: 0s - loss: 0.096 - ETA: 0s - loss: 0.096 - ETA: 0s - loss: 0.096 - ETA: 0s - loss: 0.096 - ETA: 0s - loss: 0.096 - ETA: 0s - loss: 0.096 - ETA: 0s - loss: 0.096 - 2s 5ms/step - loss: 0.0962\n",
      "Epoch 14/20\n",
      "400/400 [==============================] - ETA: 3s - loss: 0.098 - ETA: 3s - loss: 0.096 - ETA: 3s - loss: 0.096 - ETA: 2s - loss: 0.096 - ETA: 2s - loss: 0.096 - ETA: 2s - loss: 0.095 - ETA: 2s - loss: 0.095 - ETA: 2s - loss: 0.095 - ETA: 2s - loss: 0.095 - ETA: 2s - loss: 0.095 - ETA: 2s - loss: 0.095 - ETA: 2s - loss: 0.095 - ETA: 2s - loss: 0.095 - ETA: 2s - loss: 0.095 - ETA: 2s - loss: 0.095 - ETA: 2s - loss: 0.096 - ETA: 2s - loss: 0.095 - ETA: 2s - loss: 0.096 - ETA: 2s - loss: 0.096 - ETA: 2s - loss: 0.095 - ETA: 2s - loss: 0.095 - ETA: 1s - loss: 0.095 - ETA: 1s - loss: 0.095 - ETA: 1s - loss: 0.095 - ETA: 1s - loss: 0.095 - ETA: 1s - loss: 0.095 - ETA: 1s - loss: 0.095 - ETA: 1s - loss: 0.095 - ETA: 1s - loss: 0.095 - ETA: 1s - loss: 0.095 - ETA: 1s - loss: 0.095 - ETA: 0s - loss: 0.095 - ETA: 0s - loss: 0.095 - ETA: 0s - loss: 0.095 - ETA: 0s - loss: 0.095 - ETA: 0s - loss: 0.095 - ETA: 0s - loss: 0.095 - ETA: 0s - loss: 0.095 - ETA: 0s - loss: 0.095 - ETA: 0s - loss: 0.095 - ETA: 0s - loss: 0.095 - ETA: 0s - loss: 0.095 - ETA: 0s - loss: 0.095 - 2s 6ms/step - loss: 0.0959\n",
      "Epoch 15/20\n",
      "400/400 [==============================] - ETA: 2s - loss: 0.092 - ETA: 1s - loss: 0.095 - ETA: 1s - loss: 0.094 - ETA: 1s - loss: 0.095 - ETA: 1s - loss: 0.096 - ETA: 1s - loss: 0.095 - ETA: 1s - loss: 0.095 - ETA: 0s - loss: 0.095 - ETA: 0s - loss: 0.095 - ETA: 0s - loss: 0.096 - ETA: 0s - loss: 0.095 - ETA: 0s - loss: 0.095 - ETA: 0s - loss: 0.095 - ETA: 0s - loss: 0.095 - ETA: 0s - loss: 0.095 - ETA: 0s - loss: 0.095 - ETA: 0s - loss: 0.095 - ETA: 0s - loss: 0.095 - ETA: 0s - loss: 0.095 - ETA: 0s - loss: 0.095 - ETA: 0s - loss: 0.095 - ETA: 0s - loss: 0.095 - ETA: 0s - loss: 0.095 - ETA: 0s - loss: 0.095 - ETA: 0s - loss: 0.095 - ETA: 0s - loss: 0.095 - ETA: 0s - loss: 0.095 - ETA: 0s - loss: 0.095 - ETA: 0s - loss: 0.095 - ETA: 0s - loss: 0.095 - ETA: 0s - loss: 0.095 - ETA: 0s - loss: 0.095 - ETA: 0s - loss: 0.095 - ETA: 0s - loss: 0.095 - 2s 4ms/step - loss: 0.0954\n",
      "Epoch 16/20\n",
      "400/400 [==============================] - ETA: 2s - loss: 0.092 - ETA: 1s - loss: 0.095 - ETA: 1s - loss: 0.095 - ETA: 1s - loss: 0.095 - ETA: 1s - loss: 0.095 - ETA: 1s - loss: 0.094 - ETA: 1s - loss: 0.094 - ETA: 1s - loss: 0.095 - ETA: 1s - loss: 0.094 - ETA: 1s - loss: 0.094 - ETA: 1s - loss: 0.094 - ETA: 1s - loss: 0.094 - ETA: 1s - loss: 0.094 - ETA: 1s - loss: 0.094 - ETA: 1s - loss: 0.094 - ETA: 1s - loss: 0.094 - ETA: 1s - loss: 0.094 - ETA: 1s - loss: 0.094 - ETA: 1s - loss: 0.094 - ETA: 1s - loss: 0.094 - ETA: 1s - loss: 0.094 - ETA: 1s - loss: 0.094 - ETA: 1s - loss: 0.094 - ETA: 1s - loss: 0.094 - ETA: 1s - loss: 0.094 - ETA: 1s - loss: 0.094 - ETA: 1s - loss: 0.094 - ETA: 0s - loss: 0.094 - ETA: 0s - loss: 0.094 - ETA: 0s - loss: 0.094 - ETA: 0s - loss: 0.094 - ETA: 0s - loss: 0.094 - ETA: 0s - loss: 0.094 - ETA: 0s - loss: 0.094 - ETA: 0s - loss: 0.094 - ETA: 0s - loss: 0.094 - ETA: 0s - loss: 0.094 - ETA: 0s - loss: 0.094 - ETA: 0s - loss: 0.094 - ETA: 0s - loss: 0.095 - ETA: 0s - loss: 0.095 - ETA: 0s - loss: 0.095 - ETA: 0s - loss: 0.095 - ETA: 0s - loss: 0.095 - ETA: 0s - loss: 0.095 - ETA: 0s - loss: 0.095 - ETA: 0s - loss: 0.095 - 3s 6ms/step - loss: 0.0952\n",
      "Epoch 17/20\n",
      "400/400 [==============================] - ETA: 1s - loss: 0.093 - ETA: 1s - loss: 0.095 - ETA: 1s - loss: 0.094 - ETA: 1s - loss: 0.093 - ETA: 1s - loss: 0.094 - ETA: 1s - loss: 0.094 - ETA: 1s - loss: 0.094 - ETA: 1s - loss: 0.094 - ETA: 1s - loss: 0.094 - ETA: 1s - loss: 0.094 - ETA: 1s - loss: 0.094 - ETA: 1s - loss: 0.094 - ETA: 1s - loss: 0.094 - ETA: 1s - loss: 0.094 - ETA: 0s - loss: 0.094 - ETA: 0s - loss: 0.094 - ETA: 0s - loss: 0.094 - ETA: 0s - loss: 0.094 - ETA: 0s - loss: 0.094 - ETA: 0s - loss: 0.094 - ETA: 0s - loss: 0.094 - ETA: 0s - loss: 0.094 - ETA: 0s - loss: 0.094 - ETA: 0s - loss: 0.094 - ETA: 0s - loss: 0.094 - ETA: 0s - loss: 0.094 - ETA: 0s - loss: 0.094 - ETA: 0s - loss: 0.094 - ETA: 0s - loss: 0.094 - ETA: 0s - loss: 0.095 - ETA: 0s - loss: 0.095 - ETA: 0s - loss: 0.094 - 2s 4ms/step - loss: 0.0948\n",
      "Epoch 18/20\n",
      "400/400 [==============================] - ETA: 1s - loss: 0.095 - ETA: 1s - loss: 0.092 - ETA: 1s - loss: 0.094 - ETA: 1s - loss: 0.094 - ETA: 1s - loss: 0.094 - ETA: 1s - loss: 0.094 - ETA: 1s - loss: 0.095 - ETA: 1s - loss: 0.095 - ETA: 1s - loss: 0.094 - ETA: 1s - loss: 0.095 - ETA: 1s - loss: 0.095 - ETA: 0s - loss: 0.095 - ETA: 0s - loss: 0.095 - ETA: 0s - loss: 0.095 - ETA: 0s - loss: 0.095 - ETA: 0s - loss: 0.095 - ETA: 0s - loss: 0.095 - ETA: 0s - loss: 0.095 - ETA: 0s - loss: 0.095 - ETA: 0s - loss: 0.095 - ETA: 0s - loss: 0.095 - ETA: 0s - loss: 0.095 - ETA: 0s - loss: 0.095 - ETA: 0s - loss: 0.095 - ETA: 0s - loss: 0.095 - ETA: 0s - loss: 0.095 - ETA: 0s - loss: 0.095 - ETA: 0s - loss: 0.095 - ETA: 0s - loss: 0.095 - 1s 4ms/step - loss: 0.0952\n",
      "Epoch 19/20\n",
      "400/400 [==============================] - ETA: 1s - loss: 0.093 - ETA: 1s - loss: 0.094 - ETA: 1s - loss: 0.094 - ETA: 1s - loss: 0.093 - ETA: 1s - loss: 0.093 - ETA: 1s - loss: 0.093 - ETA: 1s - loss: 0.094 - ETA: 1s - loss: 0.094 - ETA: 1s - loss: 0.094 - ETA: 1s - loss: 0.094 - ETA: 1s - loss: 0.094 - ETA: 1s - loss: 0.094 - ETA: 1s - loss: 0.094 - ETA: 1s - loss: 0.094 - ETA: 1s - loss: 0.094 - ETA: 0s - loss: 0.094 - ETA: 0s - loss: 0.094 - ETA: 0s - loss: 0.094 - ETA: 0s - loss: 0.094 - ETA: 0s - loss: 0.095 - ETA: 0s - loss: 0.095 - ETA: 0s - loss: 0.094 - ETA: 0s - loss: 0.095 - ETA: 0s - loss: 0.095 - ETA: 0s - loss: 0.095 - ETA: 0s - loss: 0.095 - ETA: 0s - loss: 0.094 - ETA: 0s - loss: 0.094 - ETA: 0s - loss: 0.094 - ETA: 0s - loss: 0.094 - ETA: 0s - loss: 0.094 - ETA: 0s - loss: 0.094 - ETA: 0s - loss: 0.094 - ETA: 0s - loss: 0.094 - ETA: 0s - loss: 0.095 - ETA: 0s - loss: 0.095 - ETA: 0s - loss: 0.095 - ETA: 0s - loss: 0.094 - ETA: 0s - loss: 0.094 - ETA: 0s - loss: 0.094 - ETA: 0s - loss: 0.094 - ETA: 0s - loss: 0.095 - ETA: 0s - loss: 0.095 - ETA: 0s - loss: 0.095 - 2s 6ms/step - loss: 0.0951\n",
      "Epoch 20/20\n",
      "400/400 [==============================] - ETA: 1s - loss: 0.098 - ETA: 2s - loss: 0.095 - ETA: 2s - loss: 0.094 - ETA: 1s - loss: 0.094 - ETA: 1s - loss: 0.094 - ETA: 1s - loss: 0.094 - ETA: 2s - loss: 0.094 - ETA: 2s - loss: 0.094 - ETA: 1s - loss: 0.094 - ETA: 1s - loss: 0.094 - ETA: 1s - loss: 0.094 - ETA: 1s - loss: 0.094 - ETA: 1s - loss: 0.094 - ETA: 1s - loss: 0.094 - ETA: 1s - loss: 0.094 - ETA: 1s - loss: 0.094 - ETA: 1s - loss: 0.095 - ETA: 0s - loss: 0.094 - ETA: 0s - loss: 0.094 - ETA: 0s - loss: 0.094 - ETA: 0s - loss: 0.094 - ETA: 0s - loss: 0.094 - ETA: 0s - loss: 0.094 - ETA: 0s - loss: 0.094 - ETA: 0s - loss: 0.094 - ETA: 0s - loss: 0.094 - ETA: 0s - loss: 0.094 - ETA: 0s - loss: 0.094 - ETA: 0s - loss: 0.094 - ETA: 0s - loss: 0.094 - ETA: 0s - loss: 0.094 - ETA: 0s - loss: 0.094 - ETA: 0s - loss: 0.094 - ETA: 0s - loss: 0.094 - ETA: 0s - loss: 0.094 - ETA: 0s - loss: 0.094 - ETA: 0s - loss: 0.094 - 2s 5ms/step - loss: 0.0943\n"
     ]
    }
   ],
   "source": [
    "encoder = tfk.Sequential([\n",
    "  tfkl.InputLayer(img_shape),\n",
    "  tfkl.Flatten(),\n",
    "  tfkl.Dense(32, activation=tf.nn.relu)\n",
    "])\n",
    "encoder.summary()\n",
    "\n",
    "decoder = tfk.Sequential([\n",
    "  tfkl.InputLayer(32),\n",
    "  tfkl.Dense(np.prod(img_shape), activation=tf.nn.sigmoid),\n",
    "  tfkl.Reshape(img_shape)\n",
    "])\n",
    "decoder.summary()\n",
    "\n",
    "# the tf.keras function API starts with defining placeholder tensors that represent model inputs\n",
    "x = tfkl.Input(img_shape)\n",
    "\n",
    "# we can then pass this placeholder through our models to specify the computation to get a prediction\n",
    "h = encoder(x)\n",
    "xhat = decoder(h)\n",
    "\n",
    "# finally we use the tfk.Model class instantiate the model by specifying the inputs and outputs\n",
    "# (note: this can also be lists, which is how you make more complex models with multiple inputs and/or outputs)\n",
    "autoencoder = tfk.Model(inputs=x, outputs=xhat)\n",
    "autoencoder.summary()\n",
    "\n",
    "# training happens as usual\n",
    "autoencoder.compile(\n",
    "    optimizer=tfk.optimizers.Adam(),\n",
    "    loss=tfk.losses.BinaryCrossentropy(),\n",
    ")\n",
    "\n",
    "results = autoencoder.fit(ds_train, steps_per_epoch=400, epochs=20)"
   ]
  },
  {
   "cell_type": "code",
   "execution_count": 22,
   "metadata": {
    "colab": {
     "base_uri": "https://localhost:8080/",
     "height": 1000
    },
    "id": "WdpBTykAVbcL",
    "outputId": "aca5c45d-75e9-45e3-a35f-d1fbc1dc3184"
   },
   "outputs": [
    {
     "data": {
      "image/png": "[encoded data removed]",
      "text/plain": [
       "<Figure size 432x288 with 2 Axes>"
      ]
     },
     "metadata": {
      "needs_background": "light"
     },
     "output_type": "display_data"
    },
    {
     "data": {
      "image/png": "[encoded data removed]",
      "text/plain": [
       "<Figure size 432x288 with 2 Axes>"
      ]
     },
     "metadata": {
      "needs_background": "light"
     },
     "output_type": "display_data"
    },
    {
     "data": {
      "image/png": "[encoded data removed]",
      "text/plain": [
       "<Figure size 432x288 with 2 Axes>"
      ]
     },
     "metadata": {
      "needs_background": "light"
     },
     "output_type": "display_data"
    },
    {
     "data": {
      "image/png": "[encoded data removed]",
      "text/plain": [
       "<Figure size 432x288 with 2 Axes>"
      ]
     },
     "metadata": {
      "needs_background": "light"
     },
     "output_type": "display_data"
    },
    {
     "data": {
      "image/png": "[encoded data removed]",
      "text/plain": [
       "<Figure size 432x288 with 2 Axes>"
      ]
     },
     "metadata": {
      "needs_background": "light"
     },
     "output_type": "display_data"
    },
    {
     "data": {
      "image/png": "[encoded data removed]",
      "text/plain": [
       "<Figure size 432x288 with 2 Axes>"
      ]
     },
     "metadata": {
      "needs_background": "light"
     },
     "output_type": "display_data"
    },
    {
     "data": {
      "image/png": "[encoded data removed]",
      "text/plain": [
       "<Figure size 432x288 with 2 Axes>"
      ]
     },
     "metadata": {
      "needs_background": "light"
     },
     "output_type": "display_data"
    },
    {
     "data": {
      "image/png": "[encoded data removed]",
      "text/plain": [
       "<Figure size 432x288 with 2 Axes>"
      ]
     },
     "metadata": {
      "needs_background": "light"
     },
     "output_type": "display_data"
    },
    {
     "data": {
      "image/png": "[encoded data removed]",
      "text/plain": [
       "<Figure size 432x288 with 2 Axes>"
      ]
     },
     "metadata": {
      "needs_background": "light"
     },
     "output_type": "display_data"
    },
    {
     "data": {
      "image/png": "[encoded data removed]",
      "text/plain": [
       "<Figure size 432x288 with 2 Axes>"
      ]
     },
     "metadata": {
      "needs_background": "light"
     },
     "output_type": "display_data"
    }
   ],
   "source": [
    "imgs = next(iter(ds_train))[0]\n",
    "for i in range(10):\n",
    "  plt.subplot(1, 2, 1)\n",
    "  plt.imshow(imgs[i].numpy().squeeze(), cmap='bone')\n",
    "  plt.subplot(1, 2, 2, )\n",
    "  plt.imshow(autoencoder(imgs[i][tf.newaxis]).numpy().squeeze(), cmap='bone')\n",
    "  plt.show()"
   ]
  },
  {
   "cell_type": "markdown",
   "metadata": {
    "id": "JIGnE0CwVxXb"
   },
   "source": [
    "### Deep autoencoder and latent representations\n",
    "\n",
    "We want to reduce the dimensionality to the hidden layer so that we can plot the hidden representations to see how the autoencoder is organizing the data. If our hidden layers is going to be so much smaller, we will need to make up for it by making the network deeper.\n",
    "\n",
    "Modify the code above to make this work. Try a layers of size 156 -> 32 -> 2. After trining the model, use the encoder by itself and make a scatter plot of the some of the data, coloring each point by the digit identity. Which digits end up bunched together? Which are more well separated? Why might this be?"
   ]
  },
  {
   "cell_type": "code",
   "execution_count": null,
   "metadata": {
    "colab": {
     "base_uri": "https://localhost:8080/",
     "height": 950
    },
    "id": "b1t8p-Ak0VdN",
    "outputId": "67c6a326-35d0-47f2-967a-b885a58397e5"
   },
   "outputs": [],
   "source": [
    "# your code here"
   ]
  },
  {
   "cell_type": "code",
   "execution_count": null,
   "metadata": {
    "colab": {
     "base_uri": "https://localhost:8080/",
     "height": 1000
    },
    "id": "YbG1-lOI7JzM",
    "outputId": "e1ce9045-cb98-4901-cc39-f261ad241cdb"
   },
   "outputs": [],
   "source": [
    "for i in range(10):\n",
    "  plt.subplot(1, 2, 1)\n",
    "  plt.imshow(imgs[i].numpy().squeeze(), cmap='bone')\n",
    "  plt.subplot(1, 2, 2, )\n",
    "  plt.imshow(autoencoder(imgs[i][tf.newaxis]).numpy().squeeze(), cmap='bone')\n",
    "  plt.show()"
   ]
  },
  {
   "cell_type": "code",
   "execution_count": null,
   "metadata": {
    "id": "B7S9Aqn893jc"
   },
   "outputs": [],
   "source": [
    "# get 1000 data points for the scatter plot\n",
    "x, y = next(iter(data['test'].map(preprocess).batch(1000)))"
   ]
  },
  {
   "cell_type": "code",
   "execution_count": null,
   "metadata": {
    "colab": {
     "base_uri": "https://localhost:8080/",
     "height": 431
    },
    "id": "0TGMBWOW-0kG",
    "outputId": "26c66b54-b4e1-46c1-dd8e-396aa1bf7ea9"
   },
   "outputs": [],
   "source": [
    "# your code here -- run the data through the encoder and scatter plot the results"
   ]
  }
 ],
 "metadata": {
  "accelerator": "GPU",
  "colab": {
   "collapsed_sections": [],
   "name": "autoencoders.ipynb",
   "provenance": []
  },
  "kernelspec": {
   "display_name": "Python 3",
   "language": "python",
   "name": "python3"
  },
  "language_info": {
   "codemirror_mode": {
    "name": "ipython",
    "version": 3
   },
   "file_extension": ".py",
   "mimetype": "text/x-python",
   "name": "python",
   "nbconvert_exporter": "python",
   "pygments_lexer": "ipython3",
   "version": "3.7.3"
  },
  "widgets": {
   "application/vnd.jupyter.widget-state+json": {
    "35b6da694ed74333b7ac16ef8928b9a6": {
     "model_module": "@jupyter-widgets/base",
     "model_name": "LayoutModel",
     "state": {
      "_model_module": "@jupyter-widgets/base",
      "_model_module_version": "1.2.0",
      "_model_name": "LayoutModel",
      "_view_count": null,
      "_view_module": "@jupyter-widgets/base",
      "_view_module_version": "1.2.0",
      "_view_name": "LayoutView",
      "align_content": null,
      "align_items": null,
      "align_self": null,
      "border": null,
      "bottom": null,
      "display": null,
      "flex": null,
      "flex_flow": null,
      "grid_area": null,
      "grid_auto_columns": null,
      "grid_auto_flow": null,
      "grid_auto_rows": null,
      "grid_column": null,
      "grid_gap": null,
      "grid_row": null,
      "grid_template_areas": null,
      "grid_template_columns": null,
      "grid_template_rows": null,
      "height": null,
      "justify_content": null,
      "justify_items": null,
      "left": null,
      "margin": null,
      "max_height": null,
      "max_width": null,
      "min_height": null,
      "min_width": null,
      "object_fit": null,
      "object_position": null,
      "order": null,
      "overflow": null,
      "overflow_x": null,
      "overflow_y": null,
      "padding": null,
      "right": null,
      "top": null,
      "visibility": null,
      "width": null
     }
    },
    "3dbbdfa73cf84aac9fef3d22ee0de2a3": {
     "model_module": "@jupyter-widgets/base",
     "model_name": "LayoutModel",
     "state": {
      "_model_module": "@jupyter-widgets/base",
      "_model_module_version": "1.2.0",
      "_model_name": "LayoutModel",
      "_view_count": null,
      "_view_module": "@jupyter-widgets/base",
      "_view_module_version": "1.2.0",
      "_view_name": "LayoutView",
      "align_content": null,
      "align_items": null,
      "align_self": null,
      "border": null,
      "bottom": null,
      "display": null,
      "flex": null,
      "flex_flow": null,
      "grid_area": null,
      "grid_auto_columns": null,
      "grid_auto_flow": null,
      "grid_auto_rows": null,
      "grid_column": null,
      "grid_gap": null,
      "grid_row": null,
      "grid_template_areas": null,
      "grid_template_columns": null,
      "grid_template_rows": null,
      "height": null,
      "justify_content": null,
      "justify_items": null,
      "left": null,
      "margin": null,
      "max_height": null,
      "max_width": null,
      "min_height": null,
      "min_width": null,
      "object_fit": null,
      "object_position": null,
      "order": null,
      "overflow": null,
      "overflow_x": null,
      "overflow_y": null,
      "padding": null,
      "right": null,
      "top": null,
      "visibility": null,
      "width": null
     }
    },
    "44fe5473bc604425a89d949b8b1fadca": {
     "model_module": "@jupyter-widgets/controls",
     "model_name": "HBoxModel",
     "state": {
      "_dom_classes": [],
      "_model_module": "@jupyter-widgets/controls",
      "_model_module_version": "1.5.0",
      "_model_name": "HBoxModel",
      "_view_count": null,
      "_view_module": "@jupyter-widgets/controls",
      "_view_module_version": "1.5.0",
      "_view_name": "HBoxView",
      "box_style": "",
      "children": [
       "IPY_MODEL_4566c85f8f8443acaa80591012be3a58",
       "IPY_MODEL_d0a35b7f92744288a841cb1acc92031f"
      ],
      "layout": "IPY_MODEL_35b6da694ed74333b7ac16ef8928b9a6"
     }
    },
    "4566c85f8f8443acaa80591012be3a58": {
     "model_module": "@jupyter-widgets/controls",
     "model_name": "FloatProgressModel",
     "state": {
      "_dom_classes": [],
      "_model_module": "@jupyter-widgets/controls",
      "_model_module_version": "1.5.0",
      "_model_name": "FloatProgressModel",
      "_view_count": null,
      "_view_module": "@jupyter-widgets/controls",
      "_view_module_version": "1.5.0",
      "_view_name": "ProgressView",
      "bar_style": "success",
      "description": "Dl Completed...: 100%",
      "description_tooltip": null,
      "layout": "IPY_MODEL_8b1429a6c67c4971a025459b59d4902a",
      "max": 4,
      "min": 0,
      "orientation": "horizontal",
      "style": "IPY_MODEL_ff8062801cd349138e84847e841ad017",
      "value": 4
     }
    },
    "65ba0aac2b034021b9c4bfdc9c51670d": {
     "model_module": "@jupyter-widgets/controls",
     "model_name": "DescriptionStyleModel",
     "state": {
      "_model_module": "@jupyter-widgets/controls",
      "_model_module_version": "1.5.0",
      "_model_name": "DescriptionStyleModel",
      "_view_count": null,
      "_view_module": "@jupyter-widgets/base",
      "_view_module_version": "1.2.0",
      "_view_name": "StyleView",
      "description_width": ""
     }
    },
    "8b1429a6c67c4971a025459b59d4902a": {
     "model_module": "@jupyter-widgets/base",
     "model_name": "LayoutModel",
     "state": {
      "_model_module": "@jupyter-widgets/base",
      "_model_module_version": "1.2.0",
      "_model_name": "LayoutModel",
      "_view_count": null,
      "_view_module": "@jupyter-widgets/base",
      "_view_module_version": "1.2.0",
      "_view_name": "LayoutView",
      "align_content": null,
      "align_items": null,
      "align_self": null,
      "border": null,
      "bottom": null,
      "display": null,
      "flex": null,
      "flex_flow": null,
      "grid_area": null,
      "grid_auto_columns": null,
      "grid_auto_flow": null,
      "grid_auto_rows": null,
      "grid_column": null,
      "grid_gap": null,
      "grid_row": null,
      "grid_template_areas": null,
      "grid_template_columns": null,
      "grid_template_rows": null,
      "height": null,
      "justify_content": null,
      "justify_items": null,
      "left": null,
      "margin": null,
      "max_height": null,
      "max_width": null,
      "min_height": null,
      "min_width": null,
      "object_fit": null,
      "object_position": null,
      "order": null,
      "overflow": null,
      "overflow_x": null,
      "overflow_y": null,
      "padding": null,
      "right": null,
      "top": null,
      "visibility": null,
      "width": null
     }
    },
    "d0a35b7f92744288a841cb1acc92031f": {
     "model_module": "@jupyter-widgets/controls",
     "model_name": "HTMLModel",
     "state": {
      "_dom_classes": [],
      "_model_module": "@jupyter-widgets/controls",
      "_model_module_version": "1.5.0",
      "_model_name": "HTMLModel",
      "_view_count": null,
      "_view_module": "@jupyter-widgets/controls",
      "_view_module_version": "1.5.0",
      "_view_name": "HTMLView",
      "description": "",
      "description_tooltip": null,
      "layout": "IPY_MODEL_3dbbdfa73cf84aac9fef3d22ee0de2a3",
      "placeholder": "​",
      "style": "IPY_MODEL_65ba0aac2b034021b9c4bfdc9c51670d",
      "value": " 4/4 [00:05&lt;00:00,  1.47s/ file]"
     }
    },
    "ff8062801cd349138e84847e841ad017": {
     "model_module": "@jupyter-widgets/controls",
     "model_name": "ProgressStyleModel",
     "state": {
      "_model_module": "@jupyter-widgets/controls",
      "_model_module_version": "1.5.0",
      "_model_name": "ProgressStyleModel",
      "_view_count": null,
      "_view_module": "@jupyter-widgets/base",
      "_view_module_version": "1.2.0",
      "_view_name": "StyleView",
      "bar_color": null,
      "description_width": "initial"
     }
    }
   }
  }
 },
 "nbformat": 4,
 "nbformat_minor": 1
}
